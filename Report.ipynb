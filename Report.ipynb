{
  "nbformat": 4,
  "nbformat_minor": 0,
  "metadata": {
    "colab": {
      "provenance": [],
      "gpuType": "T4",
      "toc_visible": true
    },
    "kernelspec": {
      "name": "python3",
      "display_name": "Python 3"
    },
    "language_info": {
      "name": "python"
    },
    "accelerator": "GPU"
  },
  "cells": [
    {
      "cell_type": "markdown",
      "source": [
        " ### installation of all dependancies"
      ],
      "metadata": {
        "id": "lNZ8V_RteZl3"
      }
    },
    {
      "cell_type": "code",
      "execution_count": 12,
      "metadata": {
        "id": "UMHs4qabKXFn"
      },
      "outputs": [],
      "source": [
        "!pip install ultralytics -q\n",
        "!pip install pyyaml -q"
      ]
    },
    {
      "cell_type": "markdown",
      "source": [
        "### Importing neccesory libraries"
      ],
      "metadata": {
        "id": "rWQYf9HuRRjy"
      }
    },
    {
      "cell_type": "code",
      "source": [
        "from ultralytics import YOLO\n",
        "import yaml\n",
        "import cv2\n",
        "import glob\n",
        "import matplotlib.pyplot as plt\n",
        "import numpy as np\n",
        "from google.colab.patches import cv2_imshow\n",
        "import tensorflow as tf"
      ],
      "metadata": {
        "id": "FnIKoBs6S9BR"
      },
      "execution_count": 13,
      "outputs": []
    },
    {
      "cell_type": "markdown",
      "source": [
        "### Predict objcets from the data set and save it into directory , when you run this code go to this path you can see bounded box images /content/runs/detect/predict3\n",
        "\n",
        "I have used yolov8 model to detect object and bounded box data"
      ],
      "metadata": {
        "id": "74f1bG1yQ0IM"
      }
    },
    {
      "cell_type": "code",
      "source": [
        "## create list that have all images path\n",
        "imag_list = glob.glob(\"/content/Dataset/*.jpg\")\n",
        "model = YOLO(\"yolov8n.pt\")\n",
        "for i in imag_list:\n",
        "\n",
        "  # detect image\n",
        "  model.predict(i,save=True, save_txt= True)"
      ],
      "metadata": {
        "id": "klnhvH_UTlF3"
      },
      "execution_count": null,
      "outputs": []
    },
    {
      "cell_type": "markdown",
      "source": [
        "###  Here i have used yolov5 for crop the bounded box data and save this into another folder\n"
      ],
      "metadata": {
        "id": "LwWWI7eBit81"
      }
    },
    {
      "cell_type": "code",
      "source": [
        "import torch\n",
        "\n",
        "# Model for load the data and crop\n",
        "model = torch.hub.load('ultralytics/yolov5', 'yolov5s')"
      ],
      "metadata": {
        "id": "EMBKB2v7_KEI",
        "colab": {
          "base_uri": "https://localhost:8080/"
        },
        "outputId": "8e012050-75d6-4362-932a-e583da3e6c87"
      },
      "execution_count": 20,
      "outputs": [
        {
          "output_type": "stream",
          "name": "stderr",
          "text": [
            "Using cache found in /root/.cache/torch/hub/ultralytics_yolov5_master\n",
            "YOLOv5 🚀 2023-9-25 Python-3.10.12 torch-2.0.1+cu118 CUDA:0 (Tesla T4, 15102MiB)\n",
            "\n",
            "Fusing layers... \n",
            "YOLOv5s summary: 213 layers, 7225885 parameters, 0 gradients\n",
            "Adding AutoShape... \n"
          ]
        }
      ]
    },
    {
      "cell_type": "code",
      "source": [
        "# detect image , crop image and save it into runs/detect path one by one\n",
        "for img in imag_list:\n",
        "  results = model(img)\n",
        "  results.crop(save=True)"
      ],
      "metadata": {
        "id": "oXmw3v7eHGu7"
      },
      "execution_count": null,
      "outputs": []
    },
    {
      "cell_type": "code",
      "source": [
        "## here i used the scripts according to the  paths of the images\n",
        "x = []\n",
        "for j in glob.glob(f'/content/runs/detect/exp/crops/car/*.jpg'):\n",
        "  x.append(j)\n"
      ],
      "metadata": {
        "id": "vsSUg-BLUFm6"
      },
      "execution_count": null,
      "outputs": []
    },
    {
      "cell_type": "code",
      "source": [
        "for i in range(1,14):\n",
        "  for j in glob.glob(f'/content/runs/detect/exp{i}/crops/car/*.jpg'):\n",
        "    x.append(j)\n",
        "\n",
        "\n"
      ],
      "metadata": {
        "id": "tEVl0wLzkykR"
      },
      "execution_count": null,
      "outputs": []
    },
    {
      "cell_type": "code",
      "source": [
        "for i in range(1,14):\n",
        "  for j in glob.glob(f'/content/runs/detect/exp{i}/crops/cell phone/*.jpg'):\n",
        "    x.append(j)\n",
        "\n"
      ],
      "metadata": {
        "id": "_XTvKCf4lF_c"
      },
      "execution_count": null,
      "outputs": []
    },
    {
      "cell_type": "code",
      "source": [
        "## one of the croped image\n",
        "image_path =x[8]\n",
        "image = cv2.imread(image_path)\n",
        "cv2_imshow(image)\n",
        "\n"
      ],
      "metadata": {
        "colab": {
          "base_uri": "https://localhost:8080/",
          "height": 160
        },
        "id": "p1oVaxNeZJOl",
        "outputId": "6d872487-8836-4c61-e640-b4bd6cbcd1ae"
      },
      "execution_count": 27,
      "outputs": [
        {
          "output_type": "display_data",
          "data": {
            "text/plain": [
              "<PIL.Image.Image image mode=RGB size=265x143>"
            ],
            "image/png": "[encoded data removed]"
          },
          "metadata": {}
        }
      ]
    },
    {
      "cell_type": "markdown",
      "source": [
        "## Preprocessing the data scale the data and resize the data and store ot into 224  * 224"
      ],
      "metadata": {
        "id": "zy2nQ-UEj1KL"
      }
    },
    {
      "cell_type": "code",
      "source": [
        "data_set = []\n",
        "label = []\n",
        "\n",
        "\n",
        "\n",
        "for i in x:\n",
        "\n",
        "  dim = cv2.imread(i)\n",
        "  dim = cv2.resize(dim, (224,224))\n",
        "  data_set.append(dim/255)\n",
        "  label.append(0)\n",
        "\n",
        "data_set = np.array(data_set)\n",
        "label = np.array(label)"
      ],
      "metadata": {
        "id": "ZjquYRlgc7Z7"
      },
      "execution_count": 28,
      "outputs": []
    },
    {
      "cell_type": "markdown",
      "source": [
        "### Split the data into train and test set"
      ],
      "metadata": {
        "id": "mdBFyV_8kAsd"
      }
    },
    {
      "cell_type": "code",
      "source": [
        "from sklearn.model_selection import train_test_split\n",
        "\n",
        "x_train, x_test, y_train,y_test = train_test_split(data_set,label, test_size=0.25,random_state=42)"
      ],
      "metadata": {
        "id": "zXvs8uyRc7XX"
      },
      "execution_count": 29,
      "outputs": []
    },
    {
      "cell_type": "code",
      "source": [
        "x_train.shape, x_test.shape, y_train.shape,y_test.shape"
      ],
      "metadata": {
        "colab": {
          "base_uri": "https://localhost:8080/"
        },
        "id": "FuRFP5Tcc6Dg",
        "outputId": "b404a500-8715-45ad-d4bf-3ee7fa1c5088"
      },
      "execution_count": 30,
      "outputs": [
        {
          "output_type": "execute_result",
          "data": {
            "text/plain": [
              "((138, 224, 224, 3), (47, 224, 224, 3), (138,), (47,))"
            ]
          },
          "metadata": {},
          "execution_count": 30
        }
      ]
    },
    {
      "cell_type": "markdown",
      "source": [
        "### Here created model of deep learning using tensorflow\n"
      ],
      "metadata": {
        "id": "ACZI4UoukJfN"
      }
    },
    {
      "cell_type": "markdown",
      "source": [
        "# Model Training"
      ],
      "metadata": {
        "id": "KL8VVSOJkf71"
      }
    },
    {
      "cell_type": "code",
      "source": [
        "from tensorflow.keras.layers import Convolution2D, MaxPooling2D, Flatten, Dropout,Dense\n",
        "from tensorflow.keras.models import Sequential\n",
        "\n",
        "\n",
        "model = Sequential()\n",
        "\n",
        "# First convolution layer and pooling\n",
        "model.add(Convolution2D(32, (3, 3), input_shape=(224,224,3), activation='relu'))\n",
        "model.add(MaxPooling2D(pool_size=(2, 2)))\n",
        "# Second convolution layer and pooling\n",
        "model.add(Convolution2D(32, (3, 3), activation='relu'))\n",
        "# input_shape is going to be the pooled feature maps from the previous convolution layer\n",
        "model.add(MaxPooling2D(pool_size=(2, 2)))\n",
        "\n",
        "# Flattening the layers\n",
        "model.add(Flatten())\n",
        "\n",
        "# Adding a fully connected layer\n",
        "model.add(Dense(units=96, activation='relu'))\n",
        "model.add(Dropout(0.40))\n",
        "model.add(Dense(units=32, activation='relu'))\n",
        "model.add(Dense(units=1, activation='softmax')) # softmax for more than 2"
      ],
      "metadata": {
        "id": "Cx91iCwDYvvb"
      },
      "execution_count": 35,
      "outputs": []
    },
    {
      "cell_type": "code",
      "source": [
        "model.summary()"
      ],
      "metadata": {
        "colab": {
          "base_uri": "https://localhost:8080/"
        },
        "id": "m1sZO_TXxS0v",
        "outputId": "06a9c9af-25b9-466d-a4eb-6b3b7cd7d63a"
      },
      "execution_count": 36,
      "outputs": [
        {
          "output_type": "stream",
          "name": "stdout",
          "text": [
            "Model: \"sequential_1\"\n",
            "_________________________________________________________________\n",
            " Layer (type)                Output Shape              Param #   \n",
            "=================================================================\n",
            " conv2d (Conv2D)             (None, 222, 222, 32)      896       \n",
            "                                                                 \n",
            " max_pooling2d (MaxPooling2  (None, 111, 111, 32)      0         \n",
            " D)                                                              \n",
            "                                                                 \n",
            " conv2d_1 (Conv2D)           (None, 109, 109, 32)      9248      \n",
            "                                                                 \n",
            " max_pooling2d_1 (MaxPoolin  (None, 54, 54, 32)        0         \n",
            " g2D)                                                            \n",
            "                                                                 \n",
            " flatten_1 (Flatten)         (None, 93312)             0         \n",
            "                                                                 \n",
            " dense_6 (Dense)             (None, 96)                8958048   \n",
            "                                                                 \n",
            " dropout (Dropout)           (None, 96)                0         \n",
            "                                                                 \n",
            " dense_7 (Dense)             (None, 32)                3104      \n",
            "                                                                 \n",
            " dense_8 (Dense)             (None, 1)                 33        \n",
            "                                                                 \n",
            "=================================================================\n",
            "Total params: 8971329 (34.22 MB)\n",
            "Trainable params: 8971329 (34.22 MB)\n",
            "Non-trainable params: 0 (0.00 Byte)\n",
            "_________________________________________________________________\n"
          ]
        }
      ]
    },
    {
      "cell_type": "code",
      "source": [
        "model.compile(optimizer='adam',loss=tf.keras.losses.SparseCategoricalCrossentropy(from_logits=False),metrics=['accuracy'])"
      ],
      "metadata": {
        "id": "hDK_7Xkmxx7k"
      },
      "execution_count": 37,
      "outputs": []
    },
    {
      "cell_type": "code",
      "source": [
        "history = model.fit(x_train,y_train,epochs=50)"
      ],
      "metadata": {
        "colab": {
          "base_uri": "https://localhost:8080/"
        },
        "id": "kcVn5wTQx4X9",
        "outputId": "d6e4b65f-7107-4628-b619-a261986897be"
      },
      "execution_count": 38,
      "outputs": [
        {
          "output_type": "stream",
          "name": "stdout",
          "text": [
            "Epoch 1/50\n",
            "5/5 [==============================] - 4s 96ms/step - loss: 0.0000e+00 - accuracy: 0.0000e+00\n",
            "Epoch 2/50\n",
            "5/5 [==============================] - 0s 29ms/step - loss: 0.0000e+00 - accuracy: 0.0000e+00\n",
            "Epoch 3/50\n",
            "5/5 [==============================] - 0s 30ms/step - loss: 0.0000e+00 - accuracy: 0.0000e+00\n",
            "Epoch 4/50\n",
            "5/5 [==============================] - 0s 32ms/step - loss: 0.0000e+00 - accuracy: 0.0000e+00\n",
            "Epoch 5/50\n",
            "5/5 [==============================] - 0s 37ms/step - loss: 0.0000e+00 - accuracy: 0.0000e+00\n",
            "Epoch 6/50\n",
            "5/5 [==============================] - 0s 34ms/step - loss: 0.0000e+00 - accuracy: 0.0000e+00\n",
            "Epoch 7/50\n",
            "5/5 [==============================] - 0s 35ms/step - loss: 0.0000e+00 - accuracy: 0.0000e+00\n",
            "Epoch 8/50\n",
            "5/5 [==============================] - 0s 37ms/step - loss: 0.0000e+00 - accuracy: 0.0000e+00\n",
            "Epoch 9/50\n",
            "5/5 [==============================] - 0s 33ms/step - loss: 0.0000e+00 - accuracy: 0.0000e+00\n",
            "Epoch 10/50\n",
            "5/5 [==============================] - 0s 36ms/step - loss: 0.0000e+00 - accuracy: 0.0000e+00\n",
            "Epoch 11/50\n",
            "5/5 [==============================] - 0s 39ms/step - loss: 0.0000e+00 - accuracy: 0.0000e+00\n",
            "Epoch 12/50\n",
            "5/5 [==============================] - 0s 33ms/step - loss: 0.0000e+00 - accuracy: 0.0000e+00\n",
            "Epoch 13/50\n",
            "5/5 [==============================] - 0s 37ms/step - loss: 0.0000e+00 - accuracy: 0.0000e+00\n",
            "Epoch 14/50\n",
            "5/5 [==============================] - 0s 33ms/step - loss: 0.0000e+00 - accuracy: 0.0000e+00\n",
            "Epoch 15/50\n",
            "5/5 [==============================] - 0s 35ms/step - loss: 0.0000e+00 - accuracy: 0.0000e+00\n",
            "Epoch 16/50\n",
            "5/5 [==============================] - 0s 35ms/step - loss: 0.0000e+00 - accuracy: 0.0000e+00\n",
            "Epoch 17/50\n",
            "5/5 [==============================] - 0s 35ms/step - loss: 0.0000e+00 - accuracy: 0.0000e+00\n",
            "Epoch 18/50\n",
            "5/5 [==============================] - 0s 33ms/step - loss: 0.0000e+00 - accuracy: 0.0000e+00\n",
            "Epoch 19/50\n",
            "5/5 [==============================] - 0s 33ms/step - loss: 0.0000e+00 - accuracy: 0.0000e+00\n",
            "Epoch 20/50\n",
            "5/5 [==============================] - 0s 30ms/step - loss: 0.0000e+00 - accuracy: 0.0000e+00\n",
            "Epoch 21/50\n",
            "5/5 [==============================] - 0s 32ms/step - loss: 0.0000e+00 - accuracy: 0.0000e+00\n",
            "Epoch 22/50\n",
            "5/5 [==============================] - 0s 31ms/step - loss: 0.0000e+00 - accuracy: 0.0000e+00\n",
            "Epoch 23/50\n",
            "5/5 [==============================] - 0s 30ms/step - loss: 0.0000e+00 - accuracy: 0.0000e+00\n",
            "Epoch 24/50\n",
            "5/5 [==============================] - 0s 32ms/step - loss: 0.0000e+00 - accuracy: 0.0000e+00\n",
            "Epoch 25/50\n",
            "5/5 [==============================] - 0s 30ms/step - loss: 0.0000e+00 - accuracy: 0.0000e+00\n",
            "Epoch 26/50\n",
            "5/5 [==============================] - 0s 31ms/step - loss: 0.0000e+00 - accuracy: 0.0000e+00\n",
            "Epoch 27/50\n",
            "5/5 [==============================] - 0s 29ms/step - loss: 0.0000e+00 - accuracy: 0.0000e+00\n",
            "Epoch 28/50\n",
            "5/5 [==============================] - 0s 31ms/step - loss: 0.0000e+00 - accuracy: 0.0000e+00\n",
            "Epoch 29/50\n",
            "5/5 [==============================] - 0s 29ms/step - loss: 0.0000e+00 - accuracy: 0.0000e+00\n",
            "Epoch 30/50\n",
            "5/5 [==============================] - 0s 32ms/step - loss: 0.0000e+00 - accuracy: 0.0000e+00\n",
            "Epoch 31/50\n",
            "5/5 [==============================] - 0s 32ms/step - loss: 0.0000e+00 - accuracy: 0.0000e+00\n",
            "Epoch 32/50\n",
            "5/5 [==============================] - 0s 29ms/step - loss: 0.0000e+00 - accuracy: 0.0000e+00\n",
            "Epoch 33/50\n",
            "5/5 [==============================] - 0s 29ms/step - loss: 0.0000e+00 - accuracy: 0.0000e+00\n",
            "Epoch 34/50\n",
            "5/5 [==============================] - 0s 30ms/step - loss: 0.0000e+00 - accuracy: 0.0000e+00\n",
            "Epoch 35/50\n",
            "5/5 [==============================] - 0s 32ms/step - loss: 0.0000e+00 - accuracy: 0.0000e+00\n",
            "Epoch 36/50\n",
            "5/5 [==============================] - 0s 29ms/step - loss: 0.0000e+00 - accuracy: 0.0000e+00\n",
            "Epoch 37/50\n",
            "5/5 [==============================] - 0s 29ms/step - loss: 0.0000e+00 - accuracy: 0.0000e+00\n",
            "Epoch 38/50\n",
            "5/5 [==============================] - 0s 28ms/step - loss: 0.0000e+00 - accuracy: 0.0000e+00\n",
            "Epoch 39/50\n",
            "5/5 [==============================] - 0s 32ms/step - loss: 0.0000e+00 - accuracy: 0.0000e+00\n",
            "Epoch 40/50\n",
            "5/5 [==============================] - 0s 29ms/step - loss: 0.0000e+00 - accuracy: 0.0000e+00\n",
            "Epoch 41/50\n",
            "5/5 [==============================] - 0s 32ms/step - loss: 0.0000e+00 - accuracy: 0.0000e+00\n",
            "Epoch 42/50\n",
            "5/5 [==============================] - 0s 28ms/step - loss: 0.0000e+00 - accuracy: 0.0000e+00\n",
            "Epoch 43/50\n",
            "5/5 [==============================] - 0s 32ms/step - loss: 0.0000e+00 - accuracy: 0.0000e+00\n",
            "Epoch 44/50\n",
            "5/5 [==============================] - 0s 30ms/step - loss: 0.0000e+00 - accuracy: 0.0000e+00\n",
            "Epoch 45/50\n",
            "5/5 [==============================] - 0s 32ms/step - loss: 0.0000e+00 - accuracy: 0.0000e+00\n",
            "Epoch 46/50\n",
            "5/5 [==============================] - 0s 31ms/step - loss: 0.0000e+00 - accuracy: 0.0000e+00\n",
            "Epoch 47/50\n",
            "5/5 [==============================] - 0s 32ms/step - loss: 0.0000e+00 - accuracy: 0.0000e+00\n",
            "Epoch 48/50\n",
            "5/5 [==============================] - 0s 29ms/step - loss: 0.0000e+00 - accuracy: 0.0000e+00\n",
            "Epoch 49/50\n",
            "5/5 [==============================] - 0s 28ms/step - loss: 0.0000e+00 - accuracy: 0.0000e+00\n",
            "Epoch 50/50\n",
            "5/5 [==============================] - 0s 27ms/step - loss: 0.0000e+00 - accuracy: 0.0000e+00\n"
          ]
        }
      ]
    },
    {
      "cell_type": "markdown",
      "source": [
        "# Model Evluation"
      ],
      "metadata": {
        "id": "vDz1dkL0kbay"
      }
    },
    {
      "cell_type": "code",
      "source": [
        "scores = model.evaluate(x_test,y_test)"
      ],
      "metadata": {
        "colab": {
          "base_uri": "https://localhost:8080/"
        },
        "id": "wf7G-clqx-we",
        "outputId": "ba94f15d-2b38-4d6c-fe97-97362c2e6aad"
      },
      "execution_count": 39,
      "outputs": [
        {
          "output_type": "stream",
          "name": "stdout",
          "text": [
            "2/2 [==============================] - 1s 256ms/step - loss: 0.0000e+00 - accuracy: 0.0000e+00\n"
          ]
        }
      ]
    },
    {
      "cell_type": "code",
      "source": [
        "scores"
      ],
      "metadata": {
        "id": "vRRqelx4yN-Y",
        "outputId": "e2e9e3bd-3256-409b-adb5-b7243fb2e139",
        "colab": {
          "base_uri": "https://localhost:8080/"
        }
      },
      "execution_count": 40,
      "outputs": [
        {
          "output_type": "execute_result",
          "data": {
            "text/plain": [
              "[0.0, 0.0]"
            ]
          },
          "metadata": {},
          "execution_count": 40
        }
      ]
    },
    {
      "cell_type": "markdown",
      "source": [
        "#### here I have used some issue that I cant fingure out why model its not showing results it may be poor data or it not leanring from croped images"
      ],
      "metadata": {
        "id": "FidHzaHXknbQ"
      }
    },
    {
      "cell_type": "code",
      "source": [],
      "metadata": {
        "id": "kcxFr7GyyPi6"
      },
      "execution_count": null,
      "outputs": []
    }
  ]
}